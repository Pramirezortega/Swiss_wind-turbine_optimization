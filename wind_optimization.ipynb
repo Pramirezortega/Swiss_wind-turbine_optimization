{
 "cells": [
  {
   "cell_type": "code",
   "execution_count": 12,
   "metadata": {},
   "outputs": [],
   "source": [
    "import pandas as pd\n",
    "from dbfread import DBF\n",
    "from pandas import DataFrame\n",
    "import numpy as np\n",
    "import matplotlib.pyplot as plt\n",
    "import seaborn as sns\n",
    "import pandas as pd\n",
    "import os\n",
    "import urllib.request"
   ]
  },
  {
   "attachments": {},
   "cell_type": "markdown",
   "metadata": {},
   "source": [
    "# Wind turbine optimization"
   ]
  },
  {
   "attachments": {},
   "cell_type": "markdown",
   "metadata": {},
   "source": [
    "## 0 - Importing data"
   ]
  },
  {
   "cell_type": "code",
   "execution_count": 20,
   "metadata": {},
   "outputs": [],
   "source": [
    "\"\"\"\n",
    "Load content of a DBF file into a Pandas data frame.\n",
    "\n",
    "The iter() is required because Pandas doesn't detect that the DBF\n",
    "object is iterable.\n",
    "\n",
    "Loading the raw geospatial data into a Pandas data frame.\n",
    "\n",
    "Datasource: https://www.swisstopo.admin.ch/en/home/meta/supply-structure/freely-available.html\n",
    "\"\"\"\n",
    "\n",
    "# Downloading a file from remote to a local file in a folder called Geospatial_raw_data_remote\n",
    "dbf_url = 'https://github.com/percw/Swiss_wind-turbine_optimization/raw/b23d047c6f824bb225cc1b7d5aa559166f191ec6/Geospatial_raw_data/spat_pts/spat_pts.dbf'\n",
    "shape_url = 'https://github.com/percw/Swiss_wind-turbine_optimization/raw/b23d047c6f824bb225cc1b7d5aa559166f191ec6/Geospatial_raw_data/spat_pts/spat_pts.shp'\n",
    "\n",
    "\n",
    "# Checking if the folder Geospatial_raw_data exists, if not downloading the files from remote\n",
    "if not os.path.exists('./Geospatial_raw_data/'):\n",
    "\tos.makedirs('./Geospatial_raw_data/spat_pts/')\n",
    "\turllib.request.urlretrieve(dbf_url, './Geospatial_raw_data/spat_pts.dbf') \t\t# Loading the .dbf file\n",
    "\turllib.request.urlretrieve(shape_url, './Geospatial_raw_data/spat_pts.shp') \t# Loading the .shp file\n",
    "\n",
    "# Downloading the file from remote to local\n",
    "\n",
    "# Loading the file from local to Pandas data frame\n",
    "dbf = DBF('./Geospatial_raw_data/spat_pts.dbf', encoding='UTF-8')\n",
    "#shp = DBF('./Geospatial_raw_data/spat_pts.shp', encoding='UTF-8')\n",
    "df_dbf_raw = DataFrame(iter(dbf))\n",
    "#df_shp_raw = DataFrame(iter(shp))\n",
    "\n"
   ]
  },
  {
   "attachments": {},
   "cell_type": "markdown",
   "metadata": {},
   "source": [
    "File: `spat_pts.dbf` - consists of candidate wind turbine locations in Switzerland which are technically feasible. The readme file provides details about the 30 attributes further attributes and the coordinate reference system. "
   ]
  },
  {
   "cell_type": "code",
   "execution_count": 21,
   "metadata": {},
   "outputs": [
    {
     "name": "stdout",
     "output_type": "stream",
     "text": [
      "    PU_ID   LT  WT_ID  DIST_ISOS  DIST_UNE_N  DIST_UNE_K  DIST_BLN  DIST_VAEW  \\\n",
      "0   738.0  1.0    9.0      735.0    132448.0     16505.0     184.0   115789.0   \n",
      "1   880.0  1.0   11.0      567.0    132177.0     16475.0     382.0   115340.0   \n",
      "2   881.0  1.0   12.0      186.0    131844.0     15740.0     156.0   115343.0   \n",
      "3  1021.0  1.0   15.0      424.0    131912.0     16340.0     389.0   114896.0   \n",
      "4  1163.0  1.0   20.0     1288.0    131652.0     16255.0     349.0   114458.0   \n",
      "5  1449.0  1.0   24.0      767.0    130084.0     14166.0     412.0   113543.0   \n",
      "6  1586.0  1.0   25.0      940.0    131307.0     17251.0     650.0   113249.0   \n",
      "7  1589.0  1.0   28.0     1856.0    130159.0     14700.0     223.0   113097.0   \n",
      "8  1590.0  1.0   29.0      636.0    129811.0     14094.0     387.0   113089.0   \n",
      "9  1591.0  1.0   30.0      847.0    129481.0     13388.0     225.0   113102.0   \n",
      "\n",
      "   DIST_RAD  DIST_AIR  ...  COHER_AREA  VIS_ARE_ha  ENER_DENS     DIST_NATPA  \\\n",
      "0   26065.0    2861.0  ...    0.074153     28132.0   0.405058  314835.059489   \n",
      "1   26638.0    1965.0  ...    0.087318     29088.0   0.400389  314505.331052   \n",
      "2   25176.0    3242.0  ...    0.068284     27704.0   0.397480  314276.488429   \n",
      "3   27229.0    1068.0  ...    0.091185     28600.0   0.395229  314177.833777   \n",
      "4   27836.0     171.0  ...    0.098703     28680.0   0.417131  313852.574631   \n",
      "5   24592.0    2065.0  ...    0.110364     35024.0   0.333057  312495.603299   \n",
      "6   31267.0     493.0  ...    0.097480     25888.0   0.503661  313147.289205   \n",
      "7   26720.0      36.0  ...    0.119632     30468.0   0.401794  312398.985707   \n",
      "8   25214.0    1313.0  ...    0.120348     34316.0   0.345950  312164.705179   \n",
      "9   23716.0    1389.0  ...    0.111122     37424.0   0.319049  311938.030722   \n",
      "\n",
      "   STRE_ALTI    DIST_REG_N  weigh_stre       prod_MW  KIBK  CANT_NAME  \n",
      "0      457.0  24717.649525  219.999966  11395.094829   4.0    GenÃ¨ve  \n",
      "1      455.0  25089.914492  111.000053  11646.518761   4.0    GenÃ¨ve  \n",
      "2      432.0  23823.745962  160.000017  11011.797909   2.0    GenÃ¨ve  \n",
      "3      419.0  25488.529743  111.000031  11303.539758   1.0    GenÃ¨ve  \n",
      "4      377.0  25912.279012  785.999983  11963.309177   3.0    GenÃ¨ve  \n",
      "5      472.0  22792.352829   96.000060  11664.991723   4.0    GenÃ¨ve  \n",
      "6      437.0  28730.591984  126.999999  13038.778867   4.0    GenÃ¨ve  \n",
      "7      416.0  24560.244724   77.000305  12241.869419   4.0    GenÃ¨ve  \n",
      "8      449.0  23212.992383   57.000132  11871.613657   4.0    GenÃ¨ve  \n",
      "9      498.0  21893.821354  448.999927  11940.106991   4.0    GenÃ¨ve  \n",
      "\n",
      "[10 rows x 38 columns]\n"
     ]
    }
   ],
   "source": [
    "print(df_dbf_raw.head(10))\n",
    "#print(df_shp_raw.head(10))"
   ]
  },
  {
   "attachments": {},
   "cell_type": "markdown",
   "metadata": {},
   "source": [
    "## 0.1 - Discovering the data "
   ]
  },
  {
   "cell_type": "code",
   "execution_count": null,
   "metadata": {},
   "outputs": [],
   "source": [
    "\n",
    "print(f'Number of technically possible wind turbine locations: {len(df_raw[\"PU_ID\"].unique())}')\n",
    "print(f'Number of canton where its feasible to place wind turbine: {len(df_raw[\"CANT_NAME\"].unique())}')\n",
    "print(f'The cantons are: {df_raw[\"CANT_NAME\"].unique()}')"
   ]
  },
  {
   "attachments": {},
   "cell_type": "markdown",
   "metadata": {},
   "source": [
    "Checking out the canton with the empty string"
   ]
  },
  {
   "cell_type": "code",
   "execution_count": null,
   "metadata": {},
   "outputs": [],
   "source": [
    "display(df_raw[df_raw[\"CANT_NAME\"] == ''])"
   ]
  },
  {
   "attachments": {},
   "cell_type": "markdown",
   "metadata": {},
   "source": [
    "## Watermark for programming environment"
   ]
  },
  {
   "cell_type": "code",
   "execution_count": null,
   "metadata": {},
   "outputs": [],
   "source": [
    "%load_ext watermark\n",
    "%watermark -v -m -p numpy,pandas,matplotlib,seaborn,dbfread,ortools\n"
   ]
  }
 ],
 "metadata": {
  "kernelspec": {
   "display_name": "base",
   "language": "python",
   "name": "python3"
  },
  "language_info": {
   "codemirror_mode": {
    "name": "ipython",
    "version": 3
   },
   "file_extension": ".py",
   "mimetype": "text/x-python",
   "name": "python",
   "nbconvert_exporter": "python",
   "pygments_lexer": "ipython3",
   "version": "3.9.13"
  },
  "orig_nbformat": 4
 },
 "nbformat": 4,
 "nbformat_minor": 2
}
